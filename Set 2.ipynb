{
 "cells": [
  {
   "cell_type": "markdown",
   "id": "3eaec951",
   "metadata": {},
   "source": [
    "### Ques 1 Find the Probability"
   ]
  },
  {
   "cell_type": "code",
   "execution_count": 1,
   "id": "4529d68d",
   "metadata": {},
   "outputs": [],
   "source": [
    "from scipy import stats"
   ]
  },
  {
   "cell_type": "code",
   "execution_count": 2,
   "id": "b391e3a4",
   "metadata": {},
   "outputs": [
    {
     "data": {
      "text/plain": [
       "0.26598552904870054"
      ]
     },
     "execution_count": 2,
     "metadata": {},
     "output_type": "execute_result"
    }
   ],
   "source": [
    "1-stats.norm.cdf(x=50,loc=45,scale=8)"
   ]
  },
  {
   "cell_type": "code",
   "execution_count": 3,
   "id": "41dee751",
   "metadata": {},
   "outputs": [],
   "source": [
    "#The probability that the service manager cannot meet his commitment is 26.6%"
   ]
  },
  {
   "cell_type": "markdown",
   "id": "f9dac838",
   "metadata": {},
   "source": [
    "### Ques 2 To specify True/False"
   ]
  },
  {
   "cell_type": "code",
   "execution_count": 4,
   "id": "4da03eb9",
   "metadata": {},
   "outputs": [],
   "source": [
    "#(A)"
   ]
  },
  {
   "cell_type": "code",
   "execution_count": 5,
   "id": "54896ec0",
   "metadata": {},
   "outputs": [],
   "source": [
    "from scipy import stats"
   ]
  },
  {
   "cell_type": "code",
   "execution_count": 6,
   "id": "c49820e7",
   "metadata": {},
   "outputs": [],
   "source": [
    "# Mean = 38, Std.devi= 6."
   ]
  },
  {
   "cell_type": "code",
   "execution_count": 7,
   "id": "d6fe5afb",
   "metadata": {},
   "outputs": [
    {
     "data": {
      "text/plain": [
       "0.8413447460685429"
      ]
     },
     "execution_count": 7,
     "metadata": {},
     "output_type": "execute_result"
    }
   ],
   "source": [
    "stats.norm.cdf(44,38,6) #Probabilty of less than 44 is 84.13%"
   ]
  },
  {
   "cell_type": "code",
   "execution_count": 33,
   "id": "3ace3f30",
   "metadata": {},
   "outputs": [
    {
     "data": {
      "text/plain": [
       "0.15865525393145707"
      ]
     },
     "execution_count": 33,
     "metadata": {},
     "output_type": "execute_result"
    }
   ],
   "source": [
    "1-stats.norm.cdf(44,38,6) #Probability of greater than 44 is 15.86%"
   ]
  },
  {
   "cell_type": "code",
   "execution_count": 34,
   "id": "976c7f23",
   "metadata": {},
   "outputs": [
    {
     "data": {
      "text/plain": [
       "0.5"
      ]
     },
     "execution_count": 34,
     "metadata": {},
     "output_type": "execute_result"
    }
   ],
   "source": [
    "stats.norm.cdf(38,38,6) #Probability of less than 38 is 50%"
   ]
  },
  {
   "cell_type": "code",
   "execution_count": 10,
   "id": "66dbc1d2",
   "metadata": {},
   "outputs": [
    {
     "data": {
      "text/plain": [
       "0.3413447460685429"
      ]
     },
     "execution_count": 10,
     "metadata": {},
     "output_type": "execute_result"
    }
   ],
   "source": [
    "stats.norm.cdf(44,38,6) - stats.norm.cdf(38,38,6) #Probability between 44 and 38 is 34.13%"
   ]
  },
  {
   "cell_type": "code",
   "execution_count": 11,
   "id": "1563c8d8",
   "metadata": {},
   "outputs": [],
   "source": [
    "#More number of employees at the processing centre is older than 44 than between 38 and 44. Therefore the statement is true."
   ]
  },
  {
   "cell_type": "code",
   "execution_count": 12,
   "id": "2df6156a",
   "metadata": {},
   "outputs": [],
   "source": [
    "#(B)"
   ]
  },
  {
   "cell_type": "code",
   "execution_count": 13,
   "id": "8ba696aa",
   "metadata": {},
   "outputs": [
    {
     "data": {
      "text/plain": [
       "0.09121121972586788"
      ]
     },
     "execution_count": 13,
     "metadata": {},
     "output_type": "execute_result"
    }
   ],
   "source": [
    "stats.norm.cdf(30,38,6) #Probability at the age 30 is 09%"
   ]
  },
  {
   "cell_type": "code",
   "execution_count": 15,
   "id": "c221ee85",
   "metadata": {},
   "outputs": [],
   "source": [
    "#If the probability at the age 30 is 9% means 9% of total is 36--> (400*0.9=36)."
   ]
  },
  {
   "cell_type": "markdown",
   "id": "13e5b86f",
   "metadata": {},
   "source": [
    "# Ques 5 Find the probability"
   ]
  },
  {
   "cell_type": "code",
   "execution_count": 26,
   "id": "3c8ee3e5",
   "metadata": {},
   "outputs": [],
   "source": [
    "import pandas as pd\n",
    "import numpy as np\n",
    "from scipy import stats"
   ]
  },
  {
   "cell_type": "code",
   "execution_count": 17,
   "id": "917974e7",
   "metadata": {},
   "outputs": [],
   "source": [
    "#Mean profit from 2 different divisions of the company = Mean 1 + Mean 2"
   ]
  },
  {
   "cell_type": "code",
   "execution_count": 19,
   "id": "9415cd3f",
   "metadata": {},
   "outputs": [
    {
     "name": "stdout",
     "output_type": "stream",
     "text": [
      "Mean profit in Rs 540 Million\n"
     ]
    }
   ],
   "source": [
    "Mean = 5 + 7\n",
    "print('Mean profit in Rs.',Mean*45,'Million')"
   ]
  },
  {
   "cell_type": "code",
   "execution_count": 20,
   "id": "942d38ce",
   "metadata": {},
   "outputs": [],
   "source": [
    "#Variance profit from 2 different divisions of the company = SD^2 = SD1^2 + SD2^2"
   ]
  },
  {
   "cell_type": "code",
   "execution_count": 21,
   "id": "4e263dde",
   "metadata": {},
   "outputs": [
    {
     "name": "stdout",
     "output_type": "stream",
     "text": [
      "SD profit in Rs. 225.0 Million\n"
     ]
    }
   ],
   "source": [
    "SD = np.sqrt((9)+(16))\n",
    "print('SD profit in Rs.',SD*45,'Million')"
   ]
  },
  {
   "cell_type": "code",
   "execution_count": 22,
   "id": "4fdcb69a",
   "metadata": {},
   "outputs": [],
   "source": [
    "#(A)Specify a Rupee range (centered on the mean) such that it contains 95% probability for the annual profit of the company."
   ]
  },
  {
   "cell_type": "code",
   "execution_count": 27,
   "id": "e5d76296",
   "metadata": {},
   "outputs": [
    {
     "name": "stdout",
     "output_type": "stream",
     "text": [
      "Range profit is (99.00810347848784, 980.9918965215122) Million\n"
     ]
    }
   ],
   "source": [
    "print('Range profit is',(stats.norm.interval(.95,540,225)),'Million')"
   ]
  },
  {
   "cell_type": "code",
   "execution_count": 28,
   "id": "4b7a625c",
   "metadata": {},
   "outputs": [],
   "source": [
    "#(B)Specify the 5th percentile of profit (in Rupees) for the company."
   ]
  },
  {
   "cell_type": "code",
   "execution_count": 29,
   "id": "a94cc62f",
   "metadata": {},
   "outputs": [
    {
     "name": "stdout",
     "output_type": "stream",
     "text": [
      "5th percentile of profit in Rs. 170.0 Million\n"
     ]
    }
   ],
   "source": [
    "#To compute 5th percentile, we use formula X=μ + Zσ; from Z-table, 5 percentile = -1.645\n",
    "X = 540+(-1.645)*225\n",
    "print('5th percentile of profit in Rs.',np.round(X),'Million')"
   ]
  },
  {
   "cell_type": "code",
   "execution_count": 30,
   "id": "33892d75",
   "metadata": {},
   "outputs": [],
   "source": [
    "#(C)Which of the two divisions has a larger probability of making a loss in a given year?"
   ]
  },
  {
   "cell_type": "code",
   "execution_count": 31,
   "id": "76d9ae70",
   "metadata": {},
   "outputs": [
    {
     "data": {
      "text/plain": [
       "0.0477903522728147"
      ]
     },
     "execution_count": 31,
     "metadata": {},
     "output_type": "execute_result"
    }
   ],
   "source": [
    "#Probability of division 1 making a loss P(X<0)\n",
    "stats.norm.cdf(0,5,3)"
   ]
  },
  {
   "cell_type": "code",
   "execution_count": 32,
   "id": "06a3be9e",
   "metadata": {},
   "outputs": [
    {
     "data": {
      "text/plain": [
       "0.040059156863817086"
      ]
     },
     "execution_count": 32,
     "metadata": {},
     "output_type": "execute_result"
    }
   ],
   "source": [
    "#Probability of division 2 making a loss P(X<0)\n",
    "stats.norm.cdf(0,7,4)"
   ]
  },
  {
   "cell_type": "code",
   "execution_count": 35,
   "id": "2413403a",
   "metadata": {},
   "outputs": [],
   "source": [
    "# Division 1 with 4.77% is making more loss compared to Division 2 with 4.00%"
   ]
  },
  {
   "cell_type": "code",
   "execution_count": null,
   "id": "35b3cc7b",
   "metadata": {},
   "outputs": [],
   "source": []
  }
 ],
 "metadata": {
  "kernelspec": {
   "display_name": "Python 3",
   "language": "python",
   "name": "python3"
  },
  "language_info": {
   "codemirror_mode": {
    "name": "ipython",
    "version": 3
   },
   "file_extension": ".py",
   "mimetype": "text/x-python",
   "name": "python",
   "nbconvert_exporter": "python",
   "pygments_lexer": "ipython3",
   "version": "3.8.8"
  }
 },
 "nbformat": 4,
 "nbformat_minor": 5
}
